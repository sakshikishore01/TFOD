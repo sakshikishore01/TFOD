{
 "cells": [
  {
   "cell_type": "markdown",
   "metadata": {},
   "source": [
    "# 1. Install Dependencies"
   ]
  },
  {
   "cell_type": "markdown",
   "metadata": {},
   "source": [
    "OpenCV (Open Source Computer Vision Library) is an open-source computer vision and machine learning software library.is a great tool for image processing and performing computer vision tasks. It is an open-source library that can be used to perform tasks like face detection, objection tracking, landmark detection, and much more. It supports multiple languages including python, java C++\n",
    "\n",
    "UUID, Universal Unique Identifier, is a python library which helps in generating random objects of 128 bits as ids. It provides the uniqueness as it generates ids on the basis of time,\n",
    "\n",
    "The OS module in Python provides functions for creating and removing a directory (folder), fetching its contents, changing and identifying the current directory, etc.\n",
    "\n",
    "The Python time module provides many ways of representing time in code, such as objects, numbers, and strings. It also provides functionality other than representing time, like waiting during code execution and measuring the efficiency of your code."
   ]
  },
  {
   "cell_type": "code",
   "execution_count": 1,
   "metadata": {
    "scrolled": true
   },
   "outputs": [
    {
     "name": "stdout",
     "output_type": "stream",
     "text": [
      "Requirement already satisfied: opencv-python in e:\\tensorflow object detection\\tfod\\newenv\\lib\\site-packages (4.5.5.64)\n",
      "Requirement already satisfied: numpy>=1.17.3 in e:\\tensorflow object detection\\tfod\\newenv\\lib\\site-packages (from opencv-python) (1.22.3)\n",
      "Note: you may need to restart the kernel to use updated packages.\n"
     ]
    }
   ],
   "source": [
    "pip install opencv-python"
   ]
  },
  {
   "cell_type": "code",
   "execution_count": 2,
   "metadata": {},
   "outputs": [],
   "source": [
    "# Import opencv\n",
    "import cv2 \n",
    "\n",
    "# Import uuid\n",
    "import uuid\n",
    "\n",
    "# Import Operating System\n",
    "import os\n",
    "\n",
    "# Import time\n",
    "import time"
   ]
  },
  {
   "cell_type": "markdown",
   "metadata": {},
   "source": [
    "# 2. Define Images to Collect"
   ]
  },
  {
   "cell_type": "code",
   "execution_count": 3,
   "metadata": {},
   "outputs": [],
   "source": [
    "labels = ['good', 'thankyou', 'yes','no','namaste','iloveyou','excuseme' ,'women','stand']\n",
    "number_imgs = 20"
   ]
  },
  {
   "cell_type": "markdown",
   "metadata": {},
   "source": [
    "# 3. Setup Folders"
   ]
  },
  {
   "cell_type": "code",
   "execution_count": 4,
   "metadata": {},
   "outputs": [],
   "source": [
    "IMAGES_PATH = os.path.join('Tensorflow', 'workspace', 'images', 'collectedimages')"
   ]
  },
  {
   "cell_type": "code",
   "execution_count": 5,
   "metadata": {},
   "outputs": [],
   "source": [
    "if not os.path.exists(IMAGES_PATH):\n",
    "    if os.name == 'posix':\n",
    "        !mkdir -p {IMAGES_PATH}\n",
    "    if os.name == 'nt':\n",
    "         !mkdir {IMAGES_PATH}\n",
    "for label in labels:\n",
    "    path = os.path.join(IMAGES_PATH, label)\n",
    "    if not os.path.exists(path):\n",
    "        !mkdir {path}"
   ]
  },
  {
   "cell_type": "markdown",
   "metadata": {},
   "source": [
    "# 4. Capture Images"
   ]
  },
  {
   "cell_type": "code",
   "execution_count": 6,
   "metadata": {
    "scrolled": true
   },
   "outputs": [
    {
     "name": "stdout",
     "output_type": "stream",
     "text": [
      "Requirement already satisfied: matplotlib in e:\\tensorflow object detection\\tfod\\newenv\\lib\\site-packages (3.5.1)\n",
      "Requirement already satisfied: kiwisolver>=1.0.1 in e:\\tensorflow object detection\\tfod\\newenv\\lib\\site-packages (from matplotlib) (1.4.0)\n",
      "Requirement already satisfied: fonttools>=4.22.0 in e:\\tensorflow object detection\\tfod\\newenv\\lib\\site-packages (from matplotlib) (4.31.1)\n",
      "Requirement already satisfied: packaging>=20.0 in e:\\tensorflow object detection\\tfod\\newenv\\lib\\site-packages (from matplotlib) (21.3)\n",
      "Requirement already satisfied: python-dateutil>=2.7 in e:\\tensorflow object detection\\tfod\\newenv\\lib\\site-packages (from matplotlib) (2.8.2)\n",
      "Requirement already satisfied: numpy>=1.17 in e:\\tensorflow object detection\\tfod\\newenv\\lib\\site-packages (from matplotlib) (1.22.3)\n",
      "Requirement already satisfied: pillow>=6.2.0 in e:\\tensorflow object detection\\tfod\\newenv\\lib\\site-packages (from matplotlib) (9.0.1)\n",
      "Requirement already satisfied: pyparsing>=2.2.1 in e:\\tensorflow object detection\\tfod\\newenv\\lib\\site-packages (from matplotlib) (3.0.7)\n",
      "Requirement already satisfied: cycler>=0.10 in e:\\tensorflow object detection\\tfod\\newenv\\lib\\site-packages (from matplotlib) (0.11.0)\n",
      "Requirement already satisfied: six>=1.5 in e:\\tensorflow object detection\\tfod\\newenv\\lib\\site-packages (from python-dateutil>=2.7->matplotlib) (1.16.0)\n",
      "Note: you may need to restart the kernel to use updated packages.\n"
     ]
    }
   ],
   "source": [
    "pip install matplotlib"
   ]
  },
  {
   "cell_type": "code",
   "execution_count": 7,
   "metadata": {},
   "outputs": [],
   "source": [
    "import cv2\n",
    "from matplotlib import pyplot as plt"
   ]
  },
  {
   "cell_type": "code",
   "execution_count": 8,
   "metadata": {},
   "outputs": [
    {
     "name": "stdout",
     "output_type": "stream",
     "text": [
      "Collecting images for good\n",
      "Collecting image 0\n",
      "Collecting image 1\n",
      "Collecting image 2\n",
      "Collecting image 3\n",
      "Collecting image 4\n",
      "Collecting image 5\n",
      "Collecting image 6\n",
      "Collecting image 7\n",
      "Collecting image 8\n",
      "Collecting image 9\n",
      "Collecting image 10\n",
      "Collecting image 11\n",
      "Collecting image 12\n",
      "Collecting image 13\n",
      "Collecting image 14\n",
      "Collecting image 15\n",
      "Collecting image 16\n",
      "Collecting image 17\n",
      "Collecting image 18\n",
      "Collecting image 19\n",
      "Collecting images for thankyou\n",
      "Collecting image 0\n",
      "Collecting image 1\n",
      "Collecting image 2\n",
      "Collecting image 3\n",
      "Collecting image 4\n",
      "Collecting image 5\n",
      "Collecting image 6\n",
      "Collecting image 7\n",
      "Collecting image 8\n",
      "Collecting image 9\n",
      "Collecting image 10\n",
      "Collecting image 11\n",
      "Collecting image 12\n",
      "Collecting image 13\n",
      "Collecting image 14\n",
      "Collecting image 15\n",
      "Collecting image 16\n",
      "Collecting image 17\n",
      "Collecting image 18\n",
      "Collecting image 19\n",
      "Collecting images for yes\n",
      "Collecting image 0\n",
      "Collecting image 1\n",
      "Collecting image 2\n",
      "Collecting image 3\n",
      "Collecting image 4\n",
      "Collecting image 5\n",
      "Collecting image 6\n",
      "Collecting image 7\n",
      "Collecting image 8\n",
      "Collecting image 9\n",
      "Collecting image 10\n",
      "Collecting image 11\n",
      "Collecting image 12\n",
      "Collecting image 13\n",
      "Collecting image 14\n",
      "Collecting image 15\n",
      "Collecting image 16\n",
      "Collecting image 17\n",
      "Collecting image 18\n",
      "Collecting image 19\n",
      "Collecting images for no\n",
      "Collecting image 0\n",
      "Collecting image 1\n",
      "Collecting image 2\n",
      "Collecting image 3\n",
      "Collecting image 4\n",
      "Collecting image 5\n",
      "Collecting image 6\n",
      "Collecting image 7\n",
      "Collecting image 8\n",
      "Collecting image 9\n",
      "Collecting image 10\n",
      "Collecting image 11\n",
      "Collecting image 12\n",
      "Collecting image 13\n",
      "Collecting image 14\n",
      "Collecting image 15\n",
      "Collecting image 16\n",
      "Collecting image 17\n",
      "Collecting image 18\n",
      "Collecting image 19\n",
      "Collecting images for namaste\n",
      "Collecting image 0\n",
      "Collecting image 1\n",
      "Collecting image 2\n",
      "Collecting image 3\n",
      "Collecting image 4\n",
      "Collecting image 5\n",
      "Collecting image 6\n",
      "Collecting image 7\n",
      "Collecting image 8\n",
      "Collecting image 9\n",
      "Collecting image 10\n",
      "Collecting image 11\n",
      "Collecting image 12\n",
      "Collecting image 13\n",
      "Collecting image 14\n",
      "Collecting image 15\n",
      "Collecting image 16\n",
      "Collecting image 17\n",
      "Collecting image 18\n",
      "Collecting image 19\n",
      "Collecting images for iloveyou\n",
      "Collecting image 0\n",
      "Collecting image 1\n",
      "Collecting image 2\n",
      "Collecting image 3\n",
      "Collecting image 4\n",
      "Collecting image 5\n",
      "Collecting image 6\n",
      "Collecting image 7\n",
      "Collecting image 8\n",
      "Collecting image 9\n",
      "Collecting image 10\n",
      "Collecting image 11\n",
      "Collecting image 12\n",
      "Collecting image 13\n",
      "Collecting image 14\n",
      "Collecting image 15\n",
      "Collecting image 16\n",
      "Collecting image 17\n",
      "Collecting image 18\n",
      "Collecting image 19\n",
      "Collecting images for excuseme\n",
      "Collecting image 0\n",
      "Collecting image 1\n",
      "Collecting image 2\n",
      "Collecting image 3\n",
      "Collecting image 4\n",
      "Collecting image 5\n",
      "Collecting image 6\n",
      "Collecting image 7\n",
      "Collecting image 8\n",
      "Collecting image 9\n",
      "Collecting image 10\n",
      "Collecting image 11\n",
      "Collecting image 12\n",
      "Collecting image 13\n",
      "Collecting image 14\n",
      "Collecting image 15\n",
      "Collecting image 16\n",
      "Collecting image 17\n",
      "Collecting image 18\n",
      "Collecting image 19\n",
      "Collecting images for women\n",
      "Collecting image 0\n",
      "Collecting image 1\n",
      "Collecting image 2\n",
      "Collecting image 3\n",
      "Collecting image 4\n",
      "Collecting image 5\n",
      "Collecting image 6\n",
      "Collecting image 7\n",
      "Collecting image 8\n",
      "Collecting image 9\n",
      "Collecting image 10\n",
      "Collecting image 11\n",
      "Collecting image 12\n",
      "Collecting image 13\n",
      "Collecting image 14\n",
      "Collecting image 15\n",
      "Collecting image 16\n",
      "Collecting image 17\n",
      "Collecting image 18\n",
      "Collecting image 19\n",
      "Collecting images for stand\n",
      "Collecting image 0\n",
      "Collecting image 1\n",
      "Collecting image 2\n",
      "Collecting image 3\n",
      "Collecting image 4\n",
      "Collecting image 5\n",
      "Collecting image 6\n",
      "Collecting image 7\n",
      "Collecting image 8\n",
      "Collecting image 9\n",
      "Collecting image 10\n",
      "Collecting image 11\n",
      "Collecting image 12\n",
      "Collecting image 13\n",
      "Collecting image 14\n",
      "Collecting image 15\n",
      "Collecting image 16\n",
      "Collecting image 17\n",
      "Collecting image 18\n",
      "Collecting image 19\n"
     ]
    }
   ],
   "source": [
    "for label in labels:\n",
    "    cap = cv2.VideoCapture(0)\n",
    "    print('Collecting images for {}'.format(label))\n",
    "    time.sleep(5)\n",
    "    for imgnum in range(number_imgs):\n",
    "        print('Collecting image {}'.format(imgnum))\n",
    "        ret, frame = cap.read()\n",
    "        imgname = os.path.join(IMAGES_PATH,label,label+'.'+'{}.jpg'.format(str(uuid.uuid1())))\n",
    "        cv2.imwrite(imgname, frame)\n",
    "        cv2.imshow('frame', frame)\n",
    "        time.sleep(2)\n",
    "\n",
    "        if cv2.waitKey(1) & 0xFF == ord('q'):\n",
    "            break\n",
    "cap.release()\n",
    "cv2.destroyAllWindows()\n"
   ]
  },
  {
   "cell_type": "markdown",
   "metadata": {},
   "source": [
    "# 5. Image Labelling"
   ]
  },
  {
   "cell_type": "code",
   "execution_count": 9,
   "metadata": {},
   "outputs": [
    {
     "name": "stdout",
     "output_type": "stream",
     "text": [
      "Requirement already satisfied: pyqt5 in e:\\tensorflow object detection\\tfod\\newenv\\lib\\site-packages (5.15.6)\n",
      "Requirement already satisfied: lxml in e:\\tensorflow object detection\\tfod\\newenv\\lib\\site-packages (4.8.0)\n",
      "Requirement already satisfied: PyQt5-Qt5>=5.15.2 in e:\\tensorflow object detection\\tfod\\newenv\\lib\\site-packages (from pyqt5) (5.15.2)\n",
      "Requirement already satisfied: PyQt5-sip<13,>=12.8 in e:\\tensorflow object detection\\tfod\\newenv\\lib\\site-packages (from pyqt5) (12.9.1)\n"
     ]
    }
   ],
   "source": [
    "!pip install --upgrade pyqt5 lxml"
   ]
  },
  {
   "cell_type": "code",
   "execution_count": 10,
   "metadata": {
    "scrolled": true
   },
   "outputs": [
    {
     "name": "stdout",
     "output_type": "stream",
     "text": [
      "Note: you may need to restart the kernel to use updated packages.\n"
     ]
    },
    {
     "name": "stderr",
     "output_type": "stream",
     "text": [
      "ERROR: Can not perform a '--user' install. User site-packages are not visible in this virtualenv.\n"
     ]
    }
   ],
   "source": [
    "pip install --upgrade --user pyqt5==5.12"
   ]
  },
  {
   "cell_type": "code",
   "execution_count": 11,
   "metadata": {},
   "outputs": [],
   "source": [
    "LABELIMG_PATH = os.path.join('Tensorflow', 'labelimg')"
   ]
  },
  {
   "cell_type": "code",
   "execution_count": 12,
   "metadata": {},
   "outputs": [],
   "source": [
    "if not os.path.exists(LABELIMG_PATH):\n",
    "    !mkdir {LABELIMG_PATH}\n",
    "    !git clone https://github.com/tzutalin/labelImg {LABELIMG_PATH}"
   ]
  },
  {
   "cell_type": "code",
   "execution_count": 13,
   "metadata": {},
   "outputs": [],
   "source": [
    "if os.name == 'posix':\n",
    "    !make qt5py3\n",
    "if os.name =='nt':\n",
    "    !cd {LABELIMG_PATH} && pyrcc5 -o libs/resources.py resources.qrc"
   ]
  },
  {
   "cell_type": "code",
   "execution_count": 14,
   "metadata": {},
   "outputs": [
    {
     "name": "stdout",
     "output_type": "stream",
     "text": [
      "Image:E:\\Tensorflow Object Detection\\TFOD\\Tensorflow\\workspace\\images\\collectedimages\\excuseme\\excuseme.a95aaad8-af5a-11ec-862c-f0def1fdc957.jpg -> Annotation:E:/Tensorflow Object Detection/TFOD/Tensorflow/workspace/images/collectedimages/excuseme/excuseme.a95aaad8-af5a-11ec-862c-f0def1fdc957.xml\n",
      "Cancel creation.\n",
      "Image:E:\\Tensorflow Object Detection\\TFOD\\Tensorflow\\workspace\\images\\collectedimages\\excuseme\\excuseme.aa921da7-af5a-11ec-bf84-f0def1fdc957.jpg -> Annotation:E:/Tensorflow Object Detection/TFOD/Tensorflow/workspace/images/collectedimages/excuseme/excuseme.aa921da7-af5a-11ec-bf84-f0def1fdc957.xml\n",
      "Image:E:\\Tensorflow Object Detection\\TFOD\\Tensorflow\\workspace\\images\\collectedimages\\excuseme\\excuseme.abcb0dec-af5a-11ec-9cfa-f0def1fdc957.jpg -> Annotation:E:/Tensorflow Object Detection/TFOD/Tensorflow/workspace/images/collectedimages/excuseme/excuseme.abcb0dec-af5a-11ec-9cfa-f0def1fdc957.xml\n",
      "Image:E:\\Tensorflow Object Detection\\TFOD\\Tensorflow\\workspace\\images\\collectedimages\\excuseme\\excuseme.ad02691c-af5a-11ec-9aff-f0def1fdc957.jpg -> Annotation:E:/Tensorflow Object Detection/TFOD/Tensorflow/workspace/images/collectedimages/excuseme/excuseme.ad02691c-af5a-11ec-9aff-f0def1fdc957.xml\n",
      "Image:E:\\Tensorflow Object Detection\\TFOD\\Tensorflow\\workspace\\images\\collectedimages\\excuseme\\excuseme.af7223c6-af5a-11ec-8474-f0def1fdc957.jpg -> Annotation:E:/Tensorflow Object Detection/TFOD/Tensorflow/workspace/images/collectedimages/excuseme/excuseme.af7223c6-af5a-11ec-8474-f0def1fdc957.xml\n",
      "Image:E:\\Tensorflow Object Detection\\TFOD\\Tensorflow\\workspace\\images\\collectedimages\\excuseme\\excuseme.b0ac462b-af5a-11ec-855c-f0def1fdc957.jpg -> Annotation:E:/Tensorflow Object Detection/TFOD/Tensorflow/workspace/images/collectedimages/excuseme/excuseme.b0ac462b-af5a-11ec-855c-f0def1fdc957.xml\n",
      "Image:E:\\Tensorflow Object Detection\\TFOD\\Tensorflow\\workspace\\images\\collectedimages\\excuseme\\excuseme.b1e5f58c-af5a-11ec-afad-f0def1fdc957.jpg -> Annotation:E:/Tensorflow Object Detection/TFOD/Tensorflow/workspace/images/collectedimages/excuseme/excuseme.b1e5f58c-af5a-11ec-afad-f0def1fdc957.xml\n",
      "Image:E:\\Tensorflow Object Detection\\TFOD\\Tensorflow\\workspace\\images\\collectedimages\\excuseme\\excuseme.b6c1de47-af5a-11ec-86b8-f0def1fdc957.jpg -> Annotation:E:/Tensorflow Object Detection/TFOD/Tensorflow/workspace/images/collectedimages/excuseme/excuseme.b6c1de47-af5a-11ec-86b8-f0def1fdc957.xml\n",
      "Image:E:\\Tensorflow Object Detection\\TFOD\\Tensorflow\\workspace\\images\\collectedimages\\excuseme\\excuseme.b7fa131e-af5a-11ec-a1a9-f0def1fdc957.jpg -> Annotation:E:/Tensorflow Object Detection/TFOD/Tensorflow/workspace/images/collectedimages/excuseme/excuseme.b7fa131e-af5a-11ec-a1a9-f0def1fdc957.xml\n",
      "Image:E:\\Tensorflow Object Detection\\TFOD\\Tensorflow\\workspace\\images\\collectedimages\\excuseme\\excuseme.b58a2349-af5a-11ec-86b6-f0def1fdc957.jpg -> Annotation:E:/Tensorflow Object Detection/TFOD/Tensorflow/workspace/images/collectedimages/excuseme/excuseme.b58a2349-af5a-11ec-86b6-f0def1fdc957.xml\n",
      "Image:E:\\Tensorflow Object Detection\\TFOD\\Tensorflow\\workspace\\images\\collectedimages\\excuseme\\excuseme.b4524479-af5a-11ec-88a2-f0def1fdc957.jpg -> Annotation:E:/Tensorflow Object Detection/TFOD/Tensorflow/workspace/images/collectedimages/excuseme/excuseme.b4524479-af5a-11ec-88a2-f0def1fdc957.xml\n",
      "Image:E:\\Tensorflow Object Detection\\TFOD\\Tensorflow\\workspace\\images\\collectedimages\\excuseme\\excuseme.ba687acf-af5a-11ec-86ef-f0def1fdc957.jpg -> Annotation:E:/Tensorflow Object Detection/TFOD/Tensorflow/workspace/images/collectedimages/excuseme/excuseme.ba687acf-af5a-11ec-86ef-f0def1fdc957.xml\n",
      "Image:E:\\Tensorflow Object Detection\\TFOD\\Tensorflow\\workspace\\images\\collectedimages\\excuseme\\excuseme.bb9f2923-af5a-11ec-bb9b-f0def1fdc957.jpg -> Annotation:E:/Tensorflow Object Detection/TFOD/Tensorflow/workspace/images/collectedimages/excuseme/excuseme.bb9f2923-af5a-11ec-bb9b-f0def1fdc957.xml\n",
      "Image:E:\\Tensorflow Object Detection\\TFOD\\Tensorflow\\workspace\\images\\collectedimages\\excuseme\\excuseme.bcd783a1-af5a-11ec-8ce9-f0def1fdc957.jpg -> Annotation:E:/Tensorflow Object Detection/TFOD/Tensorflow/workspace/images/collectedimages/excuseme/excuseme.bcd783a1-af5a-11ec-8ce9-f0def1fdc957.xml\n",
      "Image:E:\\Tensorflow Object Detection\\TFOD\\Tensorflow\\workspace\\images\\collectedimages\\excuseme\\excuseme.be10aff0-af5a-11ec-9cd0-f0def1fdc957.jpg -> Annotation:E:/Tensorflow Object Detection/TFOD/Tensorflow/workspace/images/collectedimages/excuseme/excuseme.be10aff0-af5a-11ec-9cd0-f0def1fdc957.xml\n",
      "Image:E:\\Tensorflow Object Detection\\TFOD\\Tensorflow\\workspace\\images\\collectedimages\\excuseme\\excuseme.bf47f4c4-af5a-11ec-b736-f0def1fdc957.jpg -> Annotation:E:/Tensorflow Object Detection/TFOD/Tensorflow/workspace/images/collectedimages/excuseme/excuseme.bf47f4c4-af5a-11ec-b736-f0def1fdc957.xml\n",
      "Cancel creation.\n",
      "Image:E:\\Tensorflow Object Detection\\TFOD\\Tensorflow\\workspace\\images\\collectedimages\\good\\good.0b60d39e-af5a-11ec-977d-f0def1fdc957.jpg -> Annotation:E:/Tensorflow Object Detection/TFOD/Tensorflow/workspace/images/collectedimages/good/good.0b60d39e-af5a-11ec-977d-f0def1fdc957.xml\n",
      "Image:E:\\Tensorflow Object Detection\\TFOD\\Tensorflow\\workspace\\images\\collectedimages\\good\\good.0c9cb141-af5a-11ec-b499-f0def1fdc957.jpg -> Annotation:E:/Tensorflow Object Detection/TFOD/Tensorflow/workspace/images/collectedimages/good/good.0c9cb141-af5a-11ec-b499-f0def1fdc957.xml\n",
      "Cancel creation.\n",
      "Image:E:\\Tensorflow Object Detection\\TFOD\\Tensorflow\\workspace\\images\\collectedimages\\good\\good.0dd415e0-af5a-11ec-9c64-f0def1fdc957.jpg -> Annotation:E:/Tensorflow Object Detection/TFOD/Tensorflow/workspace/images/collectedimages/good/good.0dd415e0-af5a-11ec-9c64-f0def1fdc957.xml\n",
      "Cancel creation.\n",
      "Image:E:\\Tensorflow Object Detection\\TFOD\\Tensorflow\\workspace\\images\\collectedimages\\good\\good.0f09e8a3-af5a-11ec-b5c4-f0def1fdc957.jpg -> Annotation:E:/Tensorflow Object Detection/TFOD/Tensorflow/workspace/images/collectedimages/good/good.0f09e8a3-af5a-11ec-b5c4-f0def1fdc957.xml\n",
      "Image:E:\\Tensorflow Object Detection\\TFOD\\Tensorflow\\workspace\\images\\collectedimages\\good\\good.06737008-af5a-11ec-9ac7-f0def1fdc957.jpg -> Annotation:E:/Tensorflow Object Detection/TFOD/Tensorflow/workspace/images/collectedimages/good/good.06737008-af5a-11ec-9ac7-f0def1fdc957.xml\n",
      "Image:E:\\Tensorflow Object Detection\\TFOD\\Tensorflow\\workspace\\images\\collectedimages\\good\\good.ddf5a551-af56-11ec-968d-f0def1fdc957.jpg -> Annotation:E:/Tensorflow Object Detection/TFOD/Tensorflow/workspace/images/collectedimages/good/good.ddf5a551-af56-11ec-968d-f0def1fdc957.xml\n",
      "Image:E:\\Tensorflow Object Detection\\TFOD\\Tensorflow\\workspace\\images\\collectedimages\\good\\good.e7b5c881-af56-11ec-9744-f0def1fdc957.jpg -> Annotation:E:/Tensorflow Object Detection/TFOD/Tensorflow/workspace/images/collectedimages/good/good.e7b5c881-af56-11ec-9744-f0def1fdc957.xml\n",
      "Image:E:\\Tensorflow Object Detection\\TFOD\\Tensorflow\\workspace\\images\\collectedimages\\good\\good.e8ecf407-af56-11ec-803a-f0def1fdc957.jpg -> Annotation:E:/Tensorflow Object Detection/TFOD/Tensorflow/workspace/images/collectedimages/good/good.e8ecf407-af56-11ec-803a-f0def1fdc957.xml\n",
      "Image:E:\\Tensorflow Object Detection\\TFOD\\Tensorflow\\workspace\\images\\collectedimages\\good\\good.e67ec770-af56-11ec-978e-f0def1fdc957.jpg -> Annotation:E:/Tensorflow Object Detection/TFOD/Tensorflow/workspace/images/collectedimages/good/good.e67ec770-af56-11ec-978e-f0def1fdc957.xml\n",
      "Image:E:\\Tensorflow Object Detection\\TFOD\\Tensorflow\\workspace\\images\\collectedimages\\good\\good.e199f7d1-af56-11ec-a150-f0def1fdc957.jpg -> Annotation:E:/Tensorflow Object Detection/TFOD/Tensorflow/workspace/images/collectedimages/good/good.e199f7d1-af56-11ec-a150-f0def1fdc957.xml\n",
      "Image:E:\\Tensorflow Object Detection\\TFOD\\Tensorflow\\workspace\\images\\collectedimages\\good\\good.e408eed4-af56-11ec-a195-f0def1fdc957.jpg -> Annotation:E:/Tensorflow Object Detection/TFOD/Tensorflow/workspace/images/collectedimages/good/good.e408eed4-af56-11ec-a195-f0def1fdc957.xml\n",
      "Image:E:\\Tensorflow Object Detection\\TFOD\\Tensorflow\\workspace\\images\\collectedimages\\good\\good.e545bbf2-af56-11ec-aea0-f0def1fdc957.jpg -> Annotation:E:/Tensorflow Object Detection/TFOD/Tensorflow/workspace/images/collectedimages/good/good.e545bbf2-af56-11ec-aea0-f0def1fdc957.xml\n",
      "Image:E:\\Tensorflow Object Detection\\TFOD\\Tensorflow\\workspace\\images\\collectedimages\\good\\good.e0666335-af56-11ec-a6bc-f0def1fdc957.jpg -> Annotation:E:/Tensorflow Object Detection/TFOD/Tensorflow/workspace/images/collectedimages/good/good.e0666335-af56-11ec-a6bc-f0def1fdc957.xml\n",
      "Image:E:\\Tensorflow Object Detection\\TFOD\\Tensorflow\\workspace\\images\\collectedimages\\good\\good.eb591f61-af56-11ec-a665-f0def1fdc957.jpg -> Annotation:E:/Tensorflow Object Detection/TFOD/Tensorflow/workspace/images/collectedimages/good/good.eb591f61-af56-11ec-a665-f0def1fdc957.xml\n",
      "Image:E:\\Tensorflow Object Detection\\TFOD\\Tensorflow\\workspace\\images\\collectedimages\\good\\good.ec91ec3f-af56-11ec-9c36-f0def1fdc957.jpg -> Annotation:E:/Tensorflow Object Detection/TFOD/Tensorflow/workspace/images/collectedimages/good/good.ec91ec3f-af56-11ec-9c36-f0def1fdc957.xml\n",
      "Image:E:\\Tensorflow Object Detection\\TFOD\\Tensorflow\\workspace\\images\\collectedimages\\good\\good.edc99225-af56-11ec-b669-f0def1fdc957.jpg -> Annotation:E:/Tensorflow Object Detection/TFOD/Tensorflow/workspace/images/collectedimages/good/good.edc99225-af56-11ec-b669-f0def1fdc957.xml\n",
      "Image:E:\\Tensorflow Object Detection\\TFOD\\Tensorflow\\workspace\\images\\collectedimages\\good\\good.f039bb38-af56-11ec-ac4e-f0def1fdc957.jpg -> Annotation:E:/Tensorflow Object Detection/TFOD/Tensorflow/workspace/images/collectedimages/good/good.f039bb38-af56-11ec-ac4e-f0def1fdc957.xml\n",
      "Cancel creation.\n",
      "Image:E:\\Tensorflow Object Detection\\TFOD\\Tensorflow\\workspace\\images\\collectedimages\\iloveyou\\iloveyou.8d5254a8-af5a-11ec-9dc8-f0def1fdc957.jpg -> Annotation:E:/Tensorflow Object Detection/TFOD/Tensorflow/workspace/images/collectedimages/iloveyou/iloveyou.8d5254a8-af5a-11ec-9dc8-f0def1fdc957.xml\n",
      "Image:E:\\Tensorflow Object Detection\\TFOD\\Tensorflow\\workspace\\images\\collectedimages\\iloveyou\\iloveyou.8e877ee8-af5a-11ec-9d43-f0def1fdc957.jpg -> Annotation:E:/Tensorflow Object Detection/TFOD/Tensorflow/workspace/images/collectedimages/iloveyou/iloveyou.8e877ee8-af5a-11ec-9d43-f0def1fdc957.xml\n",
      "Image:E:\\Tensorflow Object Detection\\TFOD\\Tensorflow\\workspace\\images\\collectedimages\\iloveyou\\iloveyou.8fbd8d14-af5a-11ec-b3c6-f0def1fdc957.jpg -> Annotation:E:/Tensorflow Object Detection/TFOD/Tensorflow/workspace/images/collectedimages/iloveyou/iloveyou.8fbd8d14-af5a-11ec-b3c6-f0def1fdc957.xml\n",
      "Image:E:\\Tensorflow Object Detection\\TFOD\\Tensorflow\\workspace\\images\\collectedimages\\iloveyou\\iloveyou.9abb796c-af5a-11ec-a7f3-f0def1fdc957.jpg -> Annotation:E:/Tensorflow Object Detection/TFOD/Tensorflow/workspace/images/collectedimages/iloveyou/iloveyou.9abb796c-af5a-11ec-a7f3-f0def1fdc957.xml\n",
      "Image:E:\\Tensorflow Object Detection\\TFOD\\Tensorflow\\workspace\\images\\collectedimages\\iloveyou\\iloveyou.9bf37205-af5a-11ec-8ef8-f0def1fdc957.jpg -> Annotation:E:/Tensorflow Object Detection/TFOD/Tensorflow/workspace/images/collectedimages/iloveyou/iloveyou.9bf37205-af5a-11ec-8ef8-f0def1fdc957.xml\n",
      "Image:E:\\Tensorflow Object Detection\\TFOD\\Tensorflow\\workspace\\images\\collectedimages\\iloveyou\\iloveyou.9d2a249f-af5a-11ec-9426-f0def1fdc957.jpg -> Annotation:E:/Tensorflow Object Detection/TFOD/Tensorflow/workspace/images/collectedimages/iloveyou/iloveyou.9d2a249f-af5a-11ec-9426-f0def1fdc957.xml\n",
      "Image:E:\\Tensorflow Object Detection\\TFOD\\Tensorflow\\workspace\\images\\collectedimages\\iloveyou\\iloveyou.9f9a61e3-af5a-11ec-8d74-f0def1fdc957.jpg -> Annotation:E:/Tensorflow Object Detection/TFOD/Tensorflow/workspace/images/collectedimages/iloveyou/iloveyou.9f9a61e3-af5a-11ec-8d74-f0def1fdc957.xml\n",
      "Image:E:\\Tensorflow Object Detection\\TFOD\\Tensorflow\\workspace\\images\\collectedimages\\iloveyou\\iloveyou.90f75285-af5a-11ec-aa63-f0def1fdc957.jpg -> Annotation:E:/Tensorflow Object Detection/TFOD/Tensorflow/workspace/images/collectedimages/iloveyou/iloveyou.90f75285-af5a-11ec-aa63-f0def1fdc957.xml\n",
      "Image:E:\\Tensorflow Object Detection\\TFOD\\Tensorflow\\workspace\\images\\collectedimages\\iloveyou\\iloveyou.94a1f2ca-af5a-11ec-ba84-f0def1fdc957.jpg -> Annotation:E:/Tensorflow Object Detection/TFOD/Tensorflow/workspace/images/collectedimages/iloveyou/iloveyou.94a1f2ca-af5a-11ec-ba84-f0def1fdc957.xml\n",
      "Image:E:\\Tensorflow Object Detection\\TFOD\\Tensorflow\\workspace\\images\\collectedimages\\iloveyou\\iloveyou.95daa1ba-af5a-11ec-9ca7-f0def1fdc957.jpg -> Annotation:E:/Tensorflow Object Detection/TFOD/Tensorflow/workspace/images/collectedimages/iloveyou/iloveyou.95daa1ba-af5a-11ec-9ca7-f0def1fdc957.xml\n",
      "Image:E:\\Tensorflow Object Detection\\TFOD\\Tensorflow\\workspace\\images\\collectedimages\\iloveyou\\iloveyou.9369c32e-af5a-11ec-be0c-f0def1fdc957.jpg -> Annotation:E:/Tensorflow Object Detection/TFOD/Tensorflow/workspace/images/collectedimages/iloveyou/iloveyou.9369c32e-af5a-11ec-be0c-f0def1fdc957.xml\n",
      "Image:E:\\Tensorflow Object Detection\\TFOD\\Tensorflow\\workspace\\images\\collectedimages\\iloveyou\\iloveyou.9849cb25-af5a-11ec-826c-f0def1fdc957.jpg -> Annotation:E:/Tensorflow Object Detection/TFOD/Tensorflow/workspace/images/collectedimages/iloveyou/iloveyou.9849cb25-af5a-11ec-826c-f0def1fdc957.xml\n",
      "Image:E:\\Tensorflow Object Detection\\TFOD\\Tensorflow\\workspace\\images\\collectedimages\\iloveyou\\iloveyou.92308f0b-af5a-11ec-a9af-f0def1fdc957.jpg -> Annotation:E:/Tensorflow Object Detection/TFOD/Tensorflow/workspace/images/collectedimages/iloveyou/iloveyou.92308f0b-af5a-11ec-a9af-f0def1fdc957.xml\n",
      "Image:E:\\Tensorflow Object Detection\\TFOD\\Tensorflow\\workspace\\images\\collectedimages\\iloveyou\\iloveyou.97130819-af5a-11ec-8cbf-f0def1fdc957.jpg -> Annotation:E:/Tensorflow Object Detection/TFOD/Tensorflow/workspace/images/collectedimages/iloveyou/iloveyou.97130819-af5a-11ec-8cbf-f0def1fdc957.xml\n",
      "Image:E:\\Tensorflow Object Detection\\TFOD\\Tensorflow\\workspace\\images\\collectedimages\\iloveyou\\iloveyou.99828217-af5a-11ec-b48f-f0def1fdc957.jpg -> Annotation:E:/Tensorflow Object Detection/TFOD/Tensorflow/workspace/images/collectedimages/iloveyou/iloveyou.99828217-af5a-11ec-b48f-f0def1fdc957.xml\n",
      "Image:E:\\Tensorflow Object Detection\\TFOD\\Tensorflow\\workspace\\images\\collectedimages\\iloveyou\\iloveyou.a209d3f8-af5a-11ec-81c5-f0def1fdc957.jpg -> Annotation:E:/Tensorflow Object Detection/TFOD/Tensorflow/workspace/images/collectedimages/iloveyou/iloveyou.a209d3f8-af5a-11ec-81c5-f0def1fdc957.xml\n",
      "Image:E:\\Tensorflow Object Detection\\TFOD\\Tensorflow\\workspace\\images\\collectedimages\\iloveyou\\iloveyou.a342493a-af5a-11ec-b63e-f0def1fdc957.jpg -> Annotation:E:/Tensorflow Object Detection/TFOD/Tensorflow/workspace/images/collectedimages/iloveyou/iloveyou.a342493a-af5a-11ec-b63e-f0def1fdc957.xml\n",
      "Image:E:\\Tensorflow Object Detection\\TFOD\\Tensorflow\\workspace\\images\\collectedimages\\namaste\\namaste.7aed8619-af5a-11ec-a10d-f0def1fdc957.jpg -> Annotation:E:/Tensorflow Object Detection/TFOD/Tensorflow/workspace/images/collectedimages/namaste/namaste.7aed8619-af5a-11ec-a10d-f0def1fdc957.xml\n",
      "Image:E:\\Tensorflow Object Detection\\TFOD\\Tensorflow\\workspace\\images\\collectedimages\\namaste\\namaste.7c26a158-af5a-11ec-9596-f0def1fdc957.jpg -> Annotation:E:/Tensorflow Object Detection/TFOD/Tensorflow/workspace/images/collectedimages/namaste/namaste.7c26a158-af5a-11ec-9596-f0def1fdc957.xml\n",
      "Image:E:\\Tensorflow Object Detection\\TFOD\\Tensorflow\\workspace\\images\\collectedimages\\namaste\\namaste.7d6366fb-af5a-11ec-be8c-f0def1fdc957.jpg -> Annotation:E:/Tensorflow Object Detection/TFOD/Tensorflow/workspace/images/collectedimages/namaste/namaste.7d6366fb-af5a-11ec-be8c-f0def1fdc957.xml\n",
      "Image:E:\\Tensorflow Object Detection\\TFOD\\Tensorflow\\workspace\\images\\collectedimages\\namaste\\namaste.7e9cf3b5-af5a-11ec-9056-f0def1fdc957.jpg -> Annotation:E:/Tensorflow Object Detection/TFOD/Tensorflow/workspace/images/collectedimages/namaste/namaste.7e9cf3b5-af5a-11ec-9056-f0def1fdc957.xml\n",
      "Image:E:\\Tensorflow Object Detection\\TFOD\\Tensorflow\\workspace\\images\\collectedimages\\namaste\\namaste.7fd94486-af5a-11ec-a68f-f0def1fdc957.jpg -> Annotation:E:/Tensorflow Object Detection/TFOD/Tensorflow/workspace/images/collectedimages/namaste/namaste.7fd94486-af5a-11ec-a68f-f0def1fdc957.xml\n",
      "Image:E:\\Tensorflow Object Detection\\TFOD\\Tensorflow\\workspace\\images\\collectedimages\\namaste\\namaste.73a27799-af5a-11ec-a020-f0def1fdc957.jpg -> Annotation:E:/Tensorflow Object Detection/TFOD/Tensorflow/workspace/images/collectedimages/namaste/namaste.73a27799-af5a-11ec-a020-f0def1fdc957.xml\n",
      "Image:E:\\Tensorflow Object Detection\\TFOD\\Tensorflow\\workspace\\images\\collectedimages\\namaste\\namaste.74d9be3a-af5a-11ec-a2dd-f0def1fdc957.jpg -> Annotation:E:/Tensorflow Object Detection/TFOD/Tensorflow/workspace/images/collectedimages/namaste/namaste.74d9be3a-af5a-11ec-a2dd-f0def1fdc957.xml\n",
      "Image:E:\\Tensorflow Object Detection\\TFOD\\Tensorflow\\workspace\\images\\collectedimages\\namaste\\namaste.79b71c8c-af5a-11ec-ae2b-f0def1fdc957.jpg -> Annotation:E:/Tensorflow Object Detection/TFOD/Tensorflow/workspace/images/collectedimages/namaste/namaste.79b71c8c-af5a-11ec-ae2b-f0def1fdc957.xml\n",
      "Image:E:\\Tensorflow Object Detection\\TFOD\\Tensorflow\\workspace\\images\\collectedimages\\namaste\\namaste.84bf7aab-af5a-11ec-b868-f0def1fdc957.jpg -> Annotation:E:/Tensorflow Object Detection/TFOD/Tensorflow/workspace/images/collectedimages/namaste/namaste.84bf7aab-af5a-11ec-b868-f0def1fdc957.xml\n",
      "Image:E:\\Tensorflow Object Detection\\TFOD\\Tensorflow\\workspace\\images\\collectedimages\\namaste\\namaste.85f63442-af5a-11ec-90eb-f0def1fdc957.jpg -> Annotation:E:/Tensorflow Object Detection/TFOD/Tensorflow/workspace/images/collectedimages/namaste/namaste.85f63442-af5a-11ec-90eb-f0def1fdc957.xml\n",
      "Image:E:\\Tensorflow Object Detection\\TFOD\\Tensorflow\\workspace\\images\\collectedimages\\namaste\\namaste.726b2f80-af5a-11ec-9e0f-f0def1fdc957.jpg -> Annotation:E:/Tensorflow Object Detection/TFOD/Tensorflow/workspace/images/collectedimages/namaste/namaste.726b2f80-af5a-11ec-9e0f-f0def1fdc957.xml\n",
      "Image:E:\\Tensorflow Object Detection\\TFOD\\Tensorflow\\workspace\\images\\collectedimages\\namaste\\namaste.787fde9c-af5a-11ec-ad48-f0def1fdc957.jpg -> Annotation:E:/Tensorflow Object Detection/TFOD/Tensorflow/workspace/images/collectedimages/namaste/namaste.787fde9c-af5a-11ec-ad48-f0def1fdc957.xml\n",
      "Image:E:\\Tensorflow Object Detection\\TFOD\\Tensorflow\\workspace\\images\\collectedimages\\namaste\\namaste.824b7dec-af5a-11ec-baa3-f0def1fdc957.jpg -> Annotation:E:/Tensorflow Object Detection/TFOD/Tensorflow/workspace/images/collectedimages/namaste/namaste.824b7dec-af5a-11ec-baa3-f0def1fdc957.xml\n",
      "Image:E:\\Tensorflow Object Detection\\TFOD\\Tensorflow\\workspace\\images\\collectedimages\\namaste\\namaste.7747af9d-af5a-11ec-a5d4-f0def1fdc957.jpg -> Annotation:E:/Tensorflow Object Detection/TFOD/Tensorflow/workspace/images/collectedimages/namaste/namaste.7747af9d-af5a-11ec-a5d4-f0def1fdc957.xml\n",
      "Image:E:\\Tensorflow Object Detection\\TFOD\\Tensorflow\\workspace\\images\\collectedimages\\namaste\\namaste.8384e89b-af5a-11ec-95e8-f0def1fdc957.jpg -> Annotation:E:/Tensorflow Object Detection/TFOD/Tensorflow/workspace/images/collectedimages/namaste/namaste.8384e89b-af5a-11ec-95e8-f0def1fdc957.xml\n",
      "Image:E:\\Tensorflow Object Detection\\TFOD\\Tensorflow\\workspace\\images\\collectedimages\\namaste\\namaste.71336faa-af5a-11ec-ba93-f0def1fdc957.jpg -> Annotation:E:/Tensorflow Object Detection/TFOD/Tensorflow/workspace/images/collectedimages/namaste/namaste.71336faa-af5a-11ec-ba93-f0def1fdc957.xml\n",
      "Image:E:\\Tensorflow Object Detection\\TFOD\\Tensorflow\\workspace\\images\\collectedimages\\namaste\\namaste.761041e7-af5a-11ec-b6e3-f0def1fdc957.jpg -> Annotation:E:/Tensorflow Object Detection/TFOD/Tensorflow/workspace/images/collectedimages/namaste/namaste.761041e7-af5a-11ec-b6e3-f0def1fdc957.xml\n",
      "Image:E:\\Tensorflow Object Detection\\TFOD\\Tensorflow\\workspace\\images\\collectedimages\\namaste\\namaste.81126609-af5a-11ec-b5c1-f0def1fdc957.jpg -> Annotation:E:/Tensorflow Object Detection/TFOD/Tensorflow/workspace/images/collectedimages/namaste/namaste.81126609-af5a-11ec-b5c1-f0def1fdc957.xml\n",
      "Image:E:\\Tensorflow Object Detection\\TFOD\\Tensorflow\\workspace\\images\\collectedimages\\no\\no.5b37cc58-af5a-11ec-89dd-f0def1fdc957.jpg -> Annotation:E:/Tensorflow Object Detection/TFOD/Tensorflow/workspace/images/collectedimages/no/no.5b37cc58-af5a-11ec-89dd-f0def1fdc957.xml\n"
     ]
    },
    {
     "name": "stdout",
     "output_type": "stream",
     "text": [
      "Image:E:\\Tensorflow Object Detection\\TFOD\\Tensorflow\\workspace\\images\\collectedimages\\no\\no.5c7057d8-af5a-11ec-a751-f0def1fdc957.jpg -> Annotation:E:/Tensorflow Object Detection/TFOD/Tensorflow/workspace/images/collectedimages/no/no.5c7057d8-af5a-11ec-a751-f0def1fdc957.xml\n",
      "Image:E:\\Tensorflow Object Detection\\TFOD\\Tensorflow\\workspace\\images\\collectedimages\\no\\no.5da598c8-af5a-11ec-a5de-f0def1fdc957.jpg -> Annotation:E:/Tensorflow Object Detection/TFOD/Tensorflow/workspace/images/collectedimages/no/no.5da598c8-af5a-11ec-a5de-f0def1fdc957.xml\n",
      "Image:E:\\Tensorflow Object Detection\\TFOD\\Tensorflow\\workspace\\images\\collectedimages\\no\\no.5edda0c0-af5a-11ec-899c-f0def1fdc957.jpg -> Annotation:E:/Tensorflow Object Detection/TFOD/Tensorflow/workspace/images/collectedimages/no/no.5edda0c0-af5a-11ec-899c-f0def1fdc957.xml\n",
      "Image:E:\\Tensorflow Object Detection\\TFOD\\Tensorflow\\workspace\\images\\collectedimages\\no\\no.6b0ee39d-af5a-11ec-be6b-f0def1fdc957.jpg -> Annotation:E:/Tensorflow Object Detection/TFOD/Tensorflow/workspace/images/collectedimages/no/no.6b0ee39d-af5a-11ec-be6b-f0def1fdc957.xml\n",
      "Image:E:\\Tensorflow Object Detection\\TFOD\\Tensorflow\\workspace\\images\\collectedimages\\no\\no.58c8dccc-af5a-11ec-9213-f0def1fdc957.jpg -> Annotation:E:/Tensorflow Object Detection/TFOD/Tensorflow/workspace/images/collectedimages/no/no.58c8dccc-af5a-11ec-9213-f0def1fdc957.xml\n",
      "Image:E:\\Tensorflow Object Detection\\TFOD\\Tensorflow\\workspace\\images\\collectedimages\\no\\no.59ffd7ba-af5a-11ec-9f70-f0def1fdc957.jpg -> Annotation:E:/Tensorflow Object Detection/TFOD/Tensorflow/workspace/images/collectedimages/no/no.59ffd7ba-af5a-11ec-9f70-f0def1fdc957.xml\n",
      "Image:E:\\Tensorflow Object Detection\\TFOD\\Tensorflow\\workspace\\images\\collectedimages\\no\\no.63b987e6-af5a-11ec-8c2b-f0def1fdc957.jpg -> Annotation:E:/Tensorflow Object Detection/TFOD/Tensorflow/workspace/images/collectedimages/no/no.63b987e6-af5a-11ec-8c2b-f0def1fdc957.xml\n",
      "Image:E:\\Tensorflow Object Detection\\TFOD\\Tensorflow\\workspace\\images\\collectedimages\\no\\no.64f30668-af5a-11ec-be6f-f0def1fdc957.jpg -> Annotation:E:/Tensorflow Object Detection/TFOD/Tensorflow/workspace/images/collectedimages/no/no.64f30668-af5a-11ec-be6f-f0def1fdc957.xml\n",
      "Image:E:\\Tensorflow Object Detection\\TFOD\\Tensorflow\\workspace\\images\\collectedimages\\no\\no.69d6140e-af5a-11ec-9df5-f0def1fdc957.jpg -> Annotation:E:/Tensorflow Object Detection/TFOD/Tensorflow/workspace/images/collectedimages/no/no.69d6140e-af5a-11ec-9df5-f0def1fdc957.xml\n",
      "Image:E:\\Tensorflow Object Detection\\TFOD\\Tensorflow\\workspace\\images\\collectedimages\\no\\no.578f0864-af5a-11ec-95c4-f0def1fdc957.jpg -> Annotation:E:/Tensorflow Object Detection/TFOD/Tensorflow/workspace/images/collectedimages/no/no.578f0864-af5a-11ec-95c4-f0def1fdc957.xml\n",
      "Image:E:\\Tensorflow Object Detection\\TFOD\\Tensorflow\\workspace\\images\\collectedimages\\no\\no.614a473b-af5a-11ec-b354-f0def1fdc957.jpg -> Annotation:E:/Tensorflow Object Detection/TFOD/Tensorflow/workspace/images/collectedimages/no/no.614a473b-af5a-11ec-b354-f0def1fdc957.xml\n",
      "Image:E:\\Tensorflow Object Detection\\TFOD\\Tensorflow\\workspace\\images\\collectedimages\\no\\no.662ce334-af5a-11ec-97b2-f0def1fdc957.jpg -> Annotation:E:/Tensorflow Object Detection/TFOD/Tensorflow/workspace/images/collectedimages/no/no.662ce334-af5a-11ec-97b2-f0def1fdc957.xml\n",
      "Image:E:\\Tensorflow Object Detection\\TFOD\\Tensorflow\\workspace\\images\\collectedimages\\no\\no.689e0d30-af5a-11ec-a9ef-f0def1fdc957.jpg -> Annotation:E:/Tensorflow Object Detection/TFOD/Tensorflow/workspace/images/collectedimages/no/no.689e0d30-af5a-11ec-a9ef-f0def1fdc957.xml\n",
      "Image:E:\\Tensorflow Object Detection\\TFOD\\Tensorflow\\workspace\\images\\collectedimages\\no\\no.5520f9df-af5a-11ec-abf7-f0def1fdc957.jpg -> Annotation:E:/Tensorflow Object Detection/TFOD/Tensorflow/workspace/images/collectedimages/no/no.5520f9df-af5a-11ec-abf7-f0def1fdc957.xml\n",
      "Image:E:\\Tensorflow Object Detection\\TFOD\\Tensorflow\\workspace\\images\\collectedimages\\no\\no.5657c109-af5a-11ec-8692-f0def1fdc957.jpg -> Annotation:E:/Tensorflow Object Detection/TFOD/Tensorflow/workspace/images/collectedimages/no/no.5657c109-af5a-11ec-8692-f0def1fdc957.xml\n",
      "Image:E:\\Tensorflow Object Detection\\TFOD\\Tensorflow\\workspace\\images\\collectedimages\\no\\no.6764a3ce-af5a-11ec-b2ca-f0def1fdc957.jpg -> Annotation:E:/Tensorflow Object Detection/TFOD/Tensorflow/workspace/images/collectedimages/no/no.6764a3ce-af5a-11ec-b2ca-f0def1fdc957.xml\n",
      "Image:E:\\Tensorflow Object Detection\\TFOD\\Tensorflow\\workspace\\images\\collectedimages\\no\\no.62811bd6-af5a-11ec-9ec8-f0def1fdc957.jpg -> Annotation:E:/Tensorflow Object Detection/TFOD/Tensorflow/workspace/images/collectedimages/no/no.62811bd6-af5a-11ec-9ec8-f0def1fdc957.xml\n",
      "Image:E:\\Tensorflow Object Detection\\TFOD\\Tensorflow\\workspace\\images\\collectedimages\\no\\no.601320ee-af5a-11ec-8936-f0def1fdc957.jpg -> Annotation:E:/Tensorflow Object Detection/TFOD/Tensorflow/workspace/images/collectedimages/no/no.601320ee-af5a-11ec-8936-f0def1fdc957.xml\n",
      "Image:E:\\Tensorflow Object Detection\\TFOD\\Tensorflow\\workspace\\images\\collectedimages\\stand\\stand.e2c7ef33-af5a-11ec-9ada-f0def1fdc957.jpg -> Annotation:E:/Tensorflow Object Detection/TFOD/Tensorflow/workspace/images/collectedimages/stand/stand.e2c7ef33-af5a-11ec-9ada-f0def1fdc957.xml\n",
      "Image:E:\\Tensorflow Object Detection\\TFOD\\Tensorflow\\workspace\\images\\collectedimages\\stand\\stand.e3fea330-af5a-11ec-ad72-f0def1fdc957.jpg -> Annotation:E:/Tensorflow Object Detection/TFOD/Tensorflow/workspace/images/collectedimages/stand/stand.e3fea330-af5a-11ec-ad72-f0def1fdc957.xml\n",
      "Image:E:\\Tensorflow Object Detection\\TFOD\\Tensorflow\\workspace\\images\\collectedimages\\stand\\stand.e7a4e9ef-af5a-11ec-9359-f0def1fdc957.jpg -> Annotation:E:/Tensorflow Object Detection/TFOD/Tensorflow/workspace/images/collectedimages/stand/stand.e7a4e9ef-af5a-11ec-9359-f0def1fdc957.xml\n",
      "Image:E:\\Tensorflow Object Detection\\TFOD\\Tensorflow\\workspace\\images\\collectedimages\\stand\\stand.e8dcf2e9-af5a-11ec-9cd6-f0def1fdc957.jpg -> Annotation:E:/Tensorflow Object Detection/TFOD/Tensorflow/workspace/images/collectedimages/stand/stand.e8dcf2e9-af5a-11ec-9cd6-f0def1fdc957.xml\n",
      "Image:E:\\Tensorflow Object Detection\\TFOD\\Tensorflow\\workspace\\images\\collectedimages\\stand\\stand.e66e17c4-af5a-11ec-a943-f0def1fdc957.jpg -> Annotation:E:/Tensorflow Object Detection/TFOD/Tensorflow/workspace/images/collectedimages/stand/stand.e66e17c4-af5a-11ec-a943-f0def1fdc957.xml\n",
      "Image:E:\\Tensorflow Object Detection\\TFOD\\Tensorflow\\workspace\\images\\collectedimages\\stand\\stand.e5371f6d-af5a-11ec-8ebf-f0def1fdc957.jpg -> Annotation:E:/Tensorflow Object Detection/TFOD/Tensorflow/workspace/images/collectedimages/stand/stand.e5371f6d-af5a-11ec-8ebf-f0def1fdc957.xml\n",
      "Image:E:\\Tensorflow Object Detection\\TFOD\\Tensorflow\\workspace\\images\\collectedimages\\stand\\stand.e19037b5-af5a-11ec-a460-f0def1fdc957.jpg -> Annotation:E:/Tensorflow Object Detection/TFOD/Tensorflow/workspace/images/collectedimages/stand/stand.e19037b5-af5a-11ec-a460-f0def1fdc957.xml\n",
      "Image:E:\\Tensorflow Object Detection\\TFOD\\Tensorflow\\workspace\\images\\collectedimages\\stand\\stand.ea160cae-af5a-11ec-b1eb-f0def1fdc957.jpg -> Annotation:E:/Tensorflow Object Detection/TFOD/Tensorflow/workspace/images/collectedimages/stand/stand.ea160cae-af5a-11ec-b1eb-f0def1fdc957.xml\n",
      "Image:E:\\Tensorflow Object Detection\\TFOD\\Tensorflow\\workspace\\images\\collectedimages\\stand\\stand.eb4dcc8c-af5a-11ec-b8e4-f0def1fdc957.jpg -> Annotation:E:/Tensorflow Object Detection/TFOD/Tensorflow/workspace/images/collectedimages/stand/stand.eb4dcc8c-af5a-11ec-b8e4-f0def1fdc957.xml\n",
      "Image:E:\\Tensorflow Object Detection\\TFOD\\Tensorflow\\workspace\\images\\collectedimages\\stand\\stand.ec850a18-af5a-11ec-b875-f0def1fdc957.jpg -> Annotation:E:/Tensorflow Object Detection/TFOD/Tensorflow/workspace/images/collectedimages/stand/stand.ec850a18-af5a-11ec-b875-f0def1fdc957.xml\n",
      "Image:E:\\Tensorflow Object Detection\\TFOD\\Tensorflow\\workspace\\images\\collectedimages\\stand\\stand.edbecb21-af5a-11ec-a0a3-f0def1fdc957.jpg -> Annotation:E:/Tensorflow Object Detection/TFOD/Tensorflow/workspace/images/collectedimages/stand/stand.edbecb21-af5a-11ec-a0a3-f0def1fdc957.xml\n",
      "Image:E:\\Tensorflow Object Detection\\TFOD\\Tensorflow\\workspace\\images\\collectedimages\\stand\\stand.f02c1f63-af5a-11ec-8a91-f0def1fdc957.jpg -> Annotation:E:/Tensorflow Object Detection/TFOD/Tensorflow/workspace/images/collectedimages/stand/stand.f02c1f63-af5a-11ec-8a91-f0def1fdc957.xml\n",
      "Image:E:\\Tensorflow Object Detection\\TFOD\\Tensorflow\\workspace\\images\\collectedimages\\stand\\stand.f77a38e9-af5a-11ec-aa35-f0def1fdc957.jpg -> Annotation:E:/Tensorflow Object Detection/TFOD/Tensorflow/workspace/images/collectedimages/stand/stand.f77a38e9-af5a-11ec-aa35-f0def1fdc957.xml\n",
      "Image:E:\\Tensorflow Object Detection\\TFOD\\Tensorflow\\workspace\\images\\collectedimages\\stand\\stand.f641ba17-af5a-11ec-91d3-f0def1fdc957.jpg -> Annotation:E:/Tensorflow Object Detection/TFOD/Tensorflow/workspace/images/collectedimages/stand/stand.f641ba17-af5a-11ec-91d3-f0def1fdc957.xml\n",
      "Image:E:\\Tensorflow Object Detection\\TFOD\\Tensorflow\\workspace\\images\\collectedimages\\thankyou\\thankyou.1ca12152-af5a-11ec-8e0e-f0def1fdc957.jpg -> Annotation:E:/Tensorflow Object Detection/TFOD/Tensorflow/workspace/images/collectedimages/thankyou/thankyou.1ca12152-af5a-11ec-8e0e-f0def1fdc957.xml\n",
      "Image:E:\\Tensorflow Object Detection\\TFOD\\Tensorflow\\workspace\\images\\collectedimages\\thankyou\\thankyou.1dd9333f-af5a-11ec-9d17-f0def1fdc957.jpg -> Annotation:E:/Tensorflow Object Detection/TFOD/Tensorflow/workspace/images/collectedimages/thankyou/thankyou.1dd9333f-af5a-11ec-9d17-f0def1fdc957.xml\n",
      "Image:E:\\Tensorflow Object Detection\\TFOD\\Tensorflow\\workspace\\images\\collectedimages\\thankyou\\thankyou.1f12a3fb-af5a-11ec-9392-f0def1fdc957.jpg -> Annotation:E:/Tensorflow Object Detection/TFOD/Tensorflow/workspace/images/collectedimages/thankyou/thankyou.1f12a3fb-af5a-11ec-9392-f0def1fdc957.xml\n",
      "Image:E:\\Tensorflow Object Detection\\TFOD\\Tensorflow\\workspace\\images\\collectedimages\\thankyou\\thankyou.2a20b869-af5a-11ec-8f96-f0def1fdc957.jpg -> Annotation:E:/Tensorflow Object Detection/TFOD/Tensorflow/workspace/images/collectedimages/thankyou/thankyou.2a20b869-af5a-11ec-8f96-f0def1fdc957.xml\n",
      "Image:E:\\Tensorflow Object Detection\\TFOD\\Tensorflow\\workspace\\images\\collectedimages\\thankyou\\thankyou.2b581b1c-af5a-11ec-a94e-f0def1fdc957.jpg -> Annotation:E:/Tensorflow Object Detection/TFOD/Tensorflow/workspace/images/collectedimages/thankyou/thankyou.2b581b1c-af5a-11ec-a94e-f0def1fdc957.xml\n",
      "Image:E:\\Tensorflow Object Detection\\TFOD\\Tensorflow\\workspace\\images\\collectedimages\\thankyou\\thankyou.2c8ffc66-af5a-11ec-b05f-f0def1fdc957.jpg -> Annotation:E:/Tensorflow Object Detection/TFOD/Tensorflow/workspace/images/collectedimages/thankyou/thankyou.2c8ffc66-af5a-11ec-b05f-f0def1fdc957.xml\n",
      "Image:E:\\Tensorflow Object Detection\\TFOD\\Tensorflow\\workspace\\images\\collectedimages\\thankyou\\thankyou.2dc80e8b-af5a-11ec-9d6b-f0def1fdc957.jpg -> Annotation:E:/Tensorflow Object Detection/TFOD/Tensorflow/workspace/images/collectedimages/thankyou/thankyou.2dc80e8b-af5a-11ec-9d6b-f0def1fdc957.xml\n",
      "Image:E:\\Tensorflow Object Detection\\TFOD\\Tensorflow\\workspace\\images\\collectedimages\\thankyou\\thankyou.2f04ca07-af5a-11ec-9055-f0def1fdc957.jpg -> Annotation:E:/Tensorflow Object Detection/TFOD/Tensorflow/workspace/images/collectedimages/thankyou/thankyou.2f04ca07-af5a-11ec-9055-f0def1fdc957.xml\n",
      "Image:E:\\Tensorflow Object Detection\\TFOD\\Tensorflow\\workspace\\images\\collectedimages\\thankyou\\thankyou.22c01ce2-af5a-11ec-afac-f0def1fdc957.jpg -> Annotation:E:/Tensorflow Object Detection/TFOD/Tensorflow/workspace/images/collectedimages/thankyou/thankyou.22c01ce2-af5a-11ec-afac-f0def1fdc957.xml\n",
      "Image:E:\\Tensorflow Object Detection\\TFOD\\Tensorflow\\workspace\\images\\collectedimages\\thankyou\\thankyou.23f9fa54-af5a-11ec-a85a-f0def1fdc957.jpg -> Annotation:E:/Tensorflow Object Detection/TFOD/Tensorflow/workspace/images/collectedimages/thankyou/thankyou.23f9fa54-af5a-11ec-a85a-f0def1fdc957.xml\n",
      "Image:E:\\Tensorflow Object Detection\\TFOD\\Tensorflow\\workspace\\images\\collectedimages\\thankyou\\thankyou.27b358d9-af5a-11ec-b61d-f0def1fdc957.jpg -> Annotation:E:/Tensorflow Object Detection/TFOD/Tensorflow/workspace/images/collectedimages/thankyou/thankyou.27b358d9-af5a-11ec-b61d-f0def1fdc957.xml\n",
      "Image:E:\\Tensorflow Object Detection\\TFOD\\Tensorflow\\workspace\\images\\collectedimages\\thankyou\\thankyou.28ea78ad-af5a-11ec-aa81-f0def1fdc957.jpg -> Annotation:E:/Tensorflow Object Detection/TFOD/Tensorflow/workspace/images/collectedimages/thankyou/thankyou.28ea78ad-af5a-11ec-aa81-f0def1fdc957.xml\n",
      "Image:E:\\Tensorflow Object Detection\\TFOD\\Tensorflow\\workspace\\images\\collectedimages\\thankyou\\thankyou.32aceb41-af5a-11ec-9032-f0def1fdc957.jpg -> Annotation:E:/Tensorflow Object Detection/TFOD/Tensorflow/workspace/images/collectedimages/thankyou/thankyou.32aceb41-af5a-11ec-9032-f0def1fdc957.xml\n",
      "Image:E:\\Tensorflow Object Detection\\TFOD\\Tensorflow\\workspace\\images\\collectedimages\\thankyou\\thankyou.204f97d9-af5a-11ec-8300-f0def1fdc957.jpg -> Annotation:E:/Tensorflow Object Detection/TFOD/Tensorflow/workspace/images/collectedimages/thankyou/thankyou.204f97d9-af5a-11ec-8300-f0def1fdc957.xml\n",
      "Image:E:\\Tensorflow Object Detection\\TFOD\\Tensorflow\\workspace\\images\\collectedimages\\thankyou\\thankyou.303d28ae-af5a-11ec-8006-f0def1fdc957.jpg -> Annotation:E:/Tensorflow Object Detection/TFOD/Tensorflow/workspace/images/collectedimages/thankyou/thankyou.303d28ae-af5a-11ec-8006-f0def1fdc957.xml\n",
      "Image:E:\\Tensorflow Object Detection\\TFOD\\Tensorflow\\workspace\\images\\collectedimages\\thankyou\\thankyou.25353c73-af5a-11ec-b88e-f0def1fdc957.jpg -> Annotation:E:/Tensorflow Object Detection/TFOD/Tensorflow/workspace/images/collectedimages/thankyou/thankyou.25353c73-af5a-11ec-b88e-f0def1fdc957.xml\n",
      "Image:E:\\Tensorflow Object Detection\\TFOD\\Tensorflow\\workspace\\images\\collectedimages\\thankyou\\thankyou.26725f6c-af5a-11ec-9751-f0def1fdc957.jpg -> Annotation:E:/Tensorflow Object Detection/TFOD/Tensorflow/workspace/images/collectedimages/thankyou/thankyou.26725f6c-af5a-11ec-9751-f0def1fdc957.xml\n",
      "Image:E:\\Tensorflow Object Detection\\TFOD\\Tensorflow\\workspace\\images\\collectedimages\\thankyou\\thankyou.317558a5-af5a-11ec-85f0-f0def1fdc957.jpg -> Annotation:E:/Tensorflow Object Detection/TFOD/Tensorflow/workspace/images/collectedimages/thankyou/thankyou.317558a5-af5a-11ec-85f0-f0def1fdc957.xml\n",
      "Image:E:\\Tensorflow Object Detection\\TFOD\\Tensorflow\\workspace\\images\\collectedimages\\thankyou\\thankyou.21877725-af5a-11ec-b1b6-f0def1fdc957.jpg -> Annotation:E:/Tensorflow Object Detection/TFOD/Tensorflow/workspace/images/collectedimages/thankyou/thankyou.21877725-af5a-11ec-b1b6-f0def1fdc957.xml\n",
      "Image:E:\\Tensorflow Object Detection\\TFOD\\Tensorflow\\workspace\\images\\collectedimages\\women\\women.c6a45684-af5a-11ec-92d4-f0def1fdc957.jpg -> Annotation:E:/Tensorflow Object Detection/TFOD/Tensorflow/workspace/images/collectedimages/women/women.c6a45684-af5a-11ec-92d4-f0def1fdc957.xml\n",
      "Image:E:\\Tensorflow Object Detection\\TFOD\\Tensorflow\\workspace\\images\\collectedimages\\women\\women.c7dcb06b-af5a-11ec-8f0a-f0def1fdc957.jpg -> Annotation:E:/Tensorflow Object Detection/TFOD/Tensorflow/workspace/images/collectedimages/women/women.c7dcb06b-af5a-11ec-8f0a-f0def1fdc957.xml\n",
      "Image:E:\\Tensorflow Object Detection\\TFOD\\Tensorflow\\workspace\\images\\collectedimages\\women\\women.c56b3175-af5a-11ec-9119-f0def1fdc957.jpg -> Annotation:E:/Tensorflow Object Detection/TFOD/Tensorflow/workspace/images/collectedimages/women/women.c56b3175-af5a-11ec-9119-f0def1fdc957.xml\n",
      "Image:E:\\Tensorflow Object Detection\\TFOD\\Tensorflow\\workspace\\images\\collectedimages\\women\\women.c91616ad-af5a-11ec-9268-f0def1fdc957.jpg -> Annotation:E:/Tensorflow Object Detection/TFOD/Tensorflow/workspace/images/collectedimages/women/women.c91616ad-af5a-11ec-9268-f0def1fdc957.xml\n",
      "Image:E:\\Tensorflow Object Detection\\TFOD\\Tensorflow\\workspace\\images\\collectedimages\\women\\women.ca4f59e2-af5a-11ec-8c81-f0def1fdc957.jpg -> Annotation:E:/Tensorflow Object Detection/TFOD/Tensorflow/workspace/images/collectedimages/women/women.ca4f59e2-af5a-11ec-8c81-f0def1fdc957.xml\n",
      "Image:E:\\Tensorflow Object Detection\\TFOD\\Tensorflow\\workspace\\images\\collectedimages\\women\\women.cb8a1db5-af5a-11ec-bfba-f0def1fdc957.jpg -> Annotation:E:/Tensorflow Object Detection/TFOD/Tensorflow/workspace/images/collectedimages/women/women.cb8a1db5-af5a-11ec-bfba-f0def1fdc957.xml\n",
      "Image:E:\\Tensorflow Object Detection\\TFOD\\Tensorflow\\workspace\\images\\collectedimages\\women\\women.ccc0f086-af5a-11ec-bedc-f0def1fdc957.jpg -> Annotation:E:/Tensorflow Object Detection/TFOD/Tensorflow/workspace/images/collectedimages/women/women.ccc0f086-af5a-11ec-bedc-f0def1fdc957.xml\n",
      "Image:E:\\Tensorflow Object Detection\\TFOD\\Tensorflow\\workspace\\images\\collectedimages\\women\\women.cdf96e43-af5a-11ec-b7df-f0def1fdc957.jpg -> Annotation:E:/Tensorflow Object Detection/TFOD/Tensorflow/workspace/images/collectedimages/women/women.cdf96e43-af5a-11ec-b7df-f0def1fdc957.xml\n",
      "Image:E:\\Tensorflow Object Detection\\TFOD\\Tensorflow\\workspace\\images\\collectedimages\\women\\women.cf31cc12-af5a-11ec-b8f6-f0def1fdc957.jpg -> Annotation:E:/Tensorflow Object Detection/TFOD/Tensorflow/workspace/images/collectedimages/women/women.cf31cc12-af5a-11ec-b8f6-f0def1fdc957.xml\n",
      "Image:E:\\Tensorflow Object Detection\\TFOD\\Tensorflow\\workspace\\images\\collectedimages\\women\\women.d1a3325e-af5a-11ec-a92e-f0def1fdc957.jpg -> Annotation:E:/Tensorflow Object Detection/TFOD/Tensorflow/workspace/images/collectedimages/women/women.d1a3325e-af5a-11ec-a92e-f0def1fdc957.xml\n",
      "Image:E:\\Tensorflow Object Detection\\TFOD\\Tensorflow\\workspace\\images\\collectedimages\\women\\women.d2dccaf7-af5a-11ec-9c27-f0def1fdc957.jpg -> Annotation:E:/Tensorflow Object Detection/TFOD/Tensorflow/workspace/images/collectedimages/women/women.d2dccaf7-af5a-11ec-9c27-f0def1fdc957.xml\n",
      "Image:E:\\Tensorflow Object Detection\\TFOD\\Tensorflow\\workspace\\images\\collectedimages\\women\\women.d06b82b6-af5a-11ec-8f2c-f0def1fdc957.jpg -> Annotation:E:/Tensorflow Object Detection/TFOD/Tensorflow/workspace/images/collectedimages/women/women.d06b82b6-af5a-11ec-8f2c-f0def1fdc957.xml\n",
      "Image:E:\\Tensorflow Object Detection\\TFOD\\Tensorflow\\workspace\\images\\collectedimages\\women\\women.d7c24e80-af5a-11ec-b265-f0def1fdc957.jpg -> Annotation:E:/Tensorflow Object Detection/TFOD/Tensorflow/workspace/images/collectedimages/women/women.d7c24e80-af5a-11ec-b265-f0def1fdc957.xml\n",
      "Image:E:\\Tensorflow Object Detection\\TFOD\\Tensorflow\\workspace\\images\\collectedimages\\women\\women.d8fb8ce9-af5a-11ec-8c49-f0def1fdc957.jpg -> Annotation:E:/Tensorflow Object Detection/TFOD/Tensorflow/workspace/images/collectedimages/women/women.d8fb8ce9-af5a-11ec-8c49-f0def1fdc957.xml\n",
      "Image:E:\\Tensorflow Object Detection\\TFOD\\Tensorflow\\workspace\\images\\collectedimages\\women\\women.d54ee390-af5a-11ec-8c46-f0def1fdc957.jpg -> Annotation:E:/Tensorflow Object Detection/TFOD/Tensorflow/workspace/images/collectedimages/women/women.d54ee390-af5a-11ec-8c46-f0def1fdc957.xml\n",
      "Image:E:\\Tensorflow Object Detection\\TFOD\\Tensorflow\\workspace\\images\\collectedimages\\women\\women.d688c040-af5a-11ec-b567-f0def1fdc957.jpg -> Annotation:E:/Tensorflow Object Detection/TFOD/Tensorflow/workspace/images/collectedimages/women/women.d688c040-af5a-11ec-b567-f0def1fdc957.xml\n",
      "Image:E:\\Tensorflow Object Detection\\TFOD\\Tensorflow\\workspace\\images\\collectedimages\\women\\women.d41612b4-af5a-11ec-a3a4-f0def1fdc957.jpg -> Annotation:E:/Tensorflow Object Detection/TFOD/Tensorflow/workspace/images/collectedimages/women/women.d41612b4-af5a-11ec-a3a4-f0def1fdc957.xml\n",
      "Image:E:\\Tensorflow Object Detection\\TFOD\\Tensorflow\\workspace\\images\\collectedimages\\women\\women.da3574c9-af5a-11ec-8f62-f0def1fdc957.jpg -> Annotation:E:/Tensorflow Object Detection/TFOD/Tensorflow/workspace/images/collectedimages/women/women.da3574c9-af5a-11ec-8f62-f0def1fdc957.xml\n",
      "Image:E:\\Tensorflow Object Detection\\TFOD\\Tensorflow\\workspace\\images\\collectedimages\\women\\women.db6cdd60-af5a-11ec-bf2e-f0def1fdc957.jpg -> Annotation:E:/Tensorflow Object Detection/TFOD/Tensorflow/workspace/images/collectedimages/women/women.db6cdd60-af5a-11ec-bf2e-f0def1fdc957.xml\n",
      "Cancel creation.\n",
      "Image:E:\\Tensorflow Object Detection\\TFOD\\Tensorflow\\workspace\\images\\collectedimages\\yes\\yes.3a230448-af5a-11ec-b611-f0def1fdc957.jpg -> Annotation:E:/Tensorflow Object Detection/TFOD/Tensorflow/workspace/images/collectedimages/yes/yes.3a230448-af5a-11ec-b611-f0def1fdc957.xml\n",
      "Image:E:\\Tensorflow Object Detection\\TFOD\\Tensorflow\\workspace\\images\\collectedimages\\yes\\yes.3b5b8378-af5a-11ec-b90c-f0def1fdc957.jpg -> Annotation:E:/Tensorflow Object Detection/TFOD/Tensorflow/workspace/images/collectedimages/yes/yes.3b5b8378-af5a-11ec-b90c-f0def1fdc957.xml\n",
      "Image:E:\\Tensorflow Object Detection\\TFOD\\Tensorflow\\workspace\\images\\collectedimages\\yes\\yes.3c94c6ce-af5a-11ec-9384-f0def1fdc957.jpg -> Annotation:E:/Tensorflow Object Detection/TFOD/Tensorflow/workspace/images/collectedimages/yes/yes.3c94c6ce-af5a-11ec-9384-f0def1fdc957.xml\n",
      "Image:E:\\Tensorflow Object Detection\\TFOD\\Tensorflow\\workspace\\images\\collectedimages\\yes\\yes.3dcb9dd1-af5a-11ec-896c-f0def1fdc957.jpg -> Annotation:E:/Tensorflow Object Detection/TFOD/Tensorflow/workspace/images/collectedimages/yes/yes.3dcb9dd1-af5a-11ec-896c-f0def1fdc957.xml\n",
      "Image:E:\\Tensorflow Object Detection\\TFOD\\Tensorflow\\workspace\\images\\collectedimages\\yes\\yes.4a109677-af5a-11ec-8ec2-f0def1fdc957.jpg -> Annotation:E:/Tensorflow Object Detection/TFOD/Tensorflow/workspace/images/collectedimages/yes/yes.4a109677-af5a-11ec-8ec2-f0def1fdc957.xml\n",
      "Image:E:\\Tensorflow Object Detection\\TFOD\\Tensorflow\\workspace\\images\\collectedimages\\yes\\yes.4b48c5bb-af5a-11ec-9ee7-f0def1fdc957.jpg -> Annotation:E:/Tensorflow Object Detection/TFOD/Tensorflow/workspace/images/collectedimages/yes/yes.4b48c5bb-af5a-11ec-9ee7-f0def1fdc957.xml\n",
      "Image:E:\\Tensorflow Object Detection\\TFOD\\Tensorflow\\workspace\\images\\collectedimages\\yes\\yes.4c80c3ff-af5a-11ec-a562-f0def1fdc957.jpg -> Annotation:E:/Tensorflow Object Detection/TFOD/Tensorflow/workspace/images/collectedimages/yes/yes.4c80c3ff-af5a-11ec-a562-f0def1fdc957.xml\n",
      "Image:E:\\Tensorflow Object Detection\\TFOD\\Tensorflow\\workspace\\images\\collectedimages\\yes\\yes.4db8df15-af5a-11ec-89b6-f0def1fdc957.jpg -> Annotation:E:/Tensorflow Object Detection/TFOD/Tensorflow/workspace/images/collectedimages/yes/yes.4db8df15-af5a-11ec-89b6-f0def1fdc957.xml\n",
      "Image:E:\\Tensorflow Object Detection\\TFOD\\Tensorflow\\workspace\\images\\collectedimages\\yes\\yes.4ef1c1a4-af5a-11ec-aca1-f0def1fdc957.jpg -> Annotation:E:/Tensorflow Object Detection/TFOD/Tensorflow/workspace/images/collectedimages/yes/yes.4ef1c1a4-af5a-11ec-aca1-f0def1fdc957.xml\n",
      "Image:E:\\Tensorflow Object Detection\\TFOD\\Tensorflow\\workspace\\images\\collectedimages\\yes\\yes.38eb2095-af5a-11ec-a193-f0def1fdc957.jpg -> Annotation:E:/Tensorflow Object Detection/TFOD/Tensorflow/workspace/images/collectedimages/yes/yes.38eb2095-af5a-11ec-a193-f0def1fdc957.xml\n",
      "Image:E:\\Tensorflow Object Detection\\TFOD\\Tensorflow\\workspace\\images\\collectedimages\\yes\\yes.38eb2095-af5a-11ec-a193-f0def1fdc957.jpg -> Annotation:E:\\Tensorflow Object Detection\\TFOD\\Tensorflow\\workspace\\images\\collectedimages\\yes\\yes.38eb2095-af5a-11ec-a193-f0def1fdc957.xml\n",
      "Image:E:\\Tensorflow Object Detection\\TFOD\\Tensorflow\\workspace\\images\\collectedimages\\yes\\yes.38eb2095-af5a-11ec-a193-f0def1fdc957.jpg -> Annotation:E:\\Tensorflow Object Detection\\TFOD\\Tensorflow\\workspace\\images\\collectedimages\\yes\\yes.38eb2095-af5a-11ec-a193-f0def1fdc957.xml\n",
      "Image:E:\\Tensorflow Object Detection\\TFOD\\Tensorflow\\workspace\\images\\collectedimages\\yes\\yes.42b44d46-af5a-11ec-a84d-f0def1fdc957.jpg -> Annotation:E:/Tensorflow Object Detection/TFOD/Tensorflow/workspace/images/collectedimages/yes/yes.42b44d46-af5a-11ec-a84d-f0def1fdc957.xml\n",
      "Image:E:\\Tensorflow Object Detection\\TFOD\\Tensorflow\\workspace\\images\\collectedimages\\yes\\yes.42b44d46-af5a-11ec-a84d-f0def1fdc957.jpg -> Annotation:E:\\Tensorflow Object Detection\\TFOD\\Tensorflow\\workspace\\images\\collectedimages\\yes\\yes.42b44d46-af5a-11ec-a84d-f0def1fdc957.xml\n",
      "Image:E:\\Tensorflow Object Detection\\TFOD\\Tensorflow\\workspace\\images\\collectedimages\\yes\\yes.43ed158e-af5a-11ec-a0f3-f0def1fdc957.jpg -> Annotation:E:/Tensorflow Object Detection/TFOD/Tensorflow/workspace/images/collectedimages/yes/yes.43ed158e-af5a-11ec-a0f3-f0def1fdc957.xml\n",
      "Image:E:\\Tensorflow Object Detection\\TFOD\\Tensorflow\\workspace\\images\\collectedimages\\yes\\yes.43ed158e-af5a-11ec-a0f3-f0def1fdc957.jpg -> Annotation:E:\\Tensorflow Object Detection\\TFOD\\Tensorflow\\workspace\\images\\collectedimages\\yes\\yes.43ed158e-af5a-11ec-a0f3-f0def1fdc957.xml\n",
      "Image:E:\\Tensorflow Object Detection\\TFOD\\Tensorflow\\workspace\\images\\collectedimages\\yes\\yes.43ed158e-af5a-11ec-a0f3-f0def1fdc957.jpg -> Annotation:E:\\Tensorflow Object Detection\\TFOD\\Tensorflow\\workspace\\images\\collectedimages\\yes\\yes.43ed158e-af5a-11ec-a0f3-f0def1fdc957.xml\n",
      "Image:E:\\Tensorflow Object Detection\\TFOD\\Tensorflow\\workspace\\images\\collectedimages\\yes\\yes.43ed158e-af5a-11ec-a0f3-f0def1fdc957.jpg -> Annotation:E:\\Tensorflow Object Detection\\TFOD\\Tensorflow\\workspace\\images\\collectedimages\\yes\\yes.43ed158e-af5a-11ec-a0f3-f0def1fdc957.xml\n",
      "Image:E:\\Tensorflow Object Detection\\TFOD\\Tensorflow\\workspace\\images\\collectedimages\\yes\\yes.43ed158e-af5a-11ec-a0f3-f0def1fdc957.jpg -> Annotation:E:\\Tensorflow Object Detection\\TFOD\\Tensorflow\\workspace\\images\\collectedimages\\yes\\yes.43ed158e-af5a-11ec-a0f3-f0def1fdc957.xml\n",
      "Image:E:\\Tensorflow Object Detection\\TFOD\\Tensorflow\\workspace\\images\\collectedimages\\yes\\yes.43ed158e-af5a-11ec-a0f3-f0def1fdc957.jpg -> Annotation:E:\\Tensorflow Object Detection\\TFOD\\Tensorflow\\workspace\\images\\collectedimages\\yes\\yes.43ed158e-af5a-11ec-a0f3-f0def1fdc957.xml\n",
      "Image:E:\\Tensorflow Object Detection\\TFOD\\Tensorflow\\workspace\\images\\collectedimages\\yes\\yes.43ed158e-af5a-11ec-a0f3-f0def1fdc957.jpg -> Annotation:E:\\Tensorflow Object Detection\\TFOD\\Tensorflow\\workspace\\images\\collectedimages\\yes\\yes.43ed158e-af5a-11ec-a0f3-f0def1fdc957.xml\n",
      "Image:E:\\Tensorflow Object Detection\\TFOD\\Tensorflow\\workspace\\images\\collectedimages\\yes\\yes.47a0d5d2-af5a-11ec-bc16-f0def1fdc957.jpg -> Annotation:E:/Tensorflow Object Detection/TFOD/Tensorflow/workspace/images/collectedimages/yes/yes.47a0d5d2-af5a-11ec-bc16-f0def1fdc957.xml\n",
      "Image:E:\\Tensorflow Object Detection\\TFOD\\Tensorflow\\workspace\\images\\collectedimages\\yes\\yes.48d72d47-af5a-11ec-8b03-f0def1fdc957.jpg -> Annotation:E:/Tensorflow Object Detection/TFOD/Tensorflow/workspace/images/collectedimages/yes/yes.48d72d47-af5a-11ec-8b03-f0def1fdc957.xml\n",
      "Image:E:\\Tensorflow Object Detection\\TFOD\\Tensorflow\\workspace\\images\\collectedimages\\yes\\yes.403edd2e-af5a-11ec-b79a-f0def1fdc957.jpg -> Annotation:E:/Tensorflow Object Detection/TFOD/Tensorflow/workspace/images/collectedimages/yes/yes.403edd2e-af5a-11ec-b79a-f0def1fdc957.xml\n",
      "Image:E:\\Tensorflow Object Detection\\TFOD\\Tensorflow\\workspace\\images\\collectedimages\\yes\\yes.4529d3a6-af5a-11ec-b497-f0def1fdc957.jpg -> Annotation:E:/Tensorflow Object Detection/TFOD/Tensorflow/workspace/images/collectedimages/yes/yes.4529d3a6-af5a-11ec-b497-f0def1fdc957.xml\n",
      "Image:E:\\Tensorflow Object Detection\\TFOD\\Tensorflow\\workspace\\images\\collectedimages\\yes\\yes.4668ebfd-af5a-11ec-9b2b-f0def1fdc957.jpg -> Annotation:E:/Tensorflow Object Detection/TFOD/Tensorflow/workspace/images/collectedimages/yes/yes.4668ebfd-af5a-11ec-9b2b-f0def1fdc957.xml\n",
      "Image:E:\\Tensorflow Object Detection\\TFOD\\Tensorflow\\workspace\\images\\collectedimages\\yes\\yes.417693d5-af5a-11ec-ab23-f0def1fdc957.jpg -> Annotation:E:/Tensorflow Object Detection/TFOD/Tensorflow/workspace/images/collectedimages/yes/yes.417693d5-af5a-11ec-ab23-f0def1fdc957.xml\n",
      "Image:E:\\Tensorflow Object Detection\\TFOD\\Tensorflow\\workspace\\images\\collectedimages\\yes\\yes.417693d5-af5a-11ec-ab23-f0def1fdc957.jpg -> Annotation:E:\\Tensorflow Object Detection\\TFOD\\Tensorflow\\workspace\\images\\collectedimages\\yes\\yes.417693d5-af5a-11ec-ab23-f0def1fdc957.xml\n"
     ]
    }
   ],
   "source": [
    "!cd {LABELIMG_PATH} && python labelImg.py"
   ]
  },
  {
   "cell_type": "markdown",
   "metadata": {},
   "source": [
    "# 6. Move them into a Training and Testing Partition"
   ]
  },
  {
   "cell_type": "code",
   "execution_count": null,
   "metadata": {},
   "outputs": [],
   "source": []
  },
  {
   "cell_type": "code",
   "execution_count": null,
   "metadata": {},
   "outputs": [],
   "source": []
  }
 ],
 "metadata": {
  "kernelspec": {
   "display_name": "newenv",
   "language": "python",
   "name": "newenv"
  },
  "language_info": {
   "codemirror_mode": {
    "name": "ipython",
    "version": 3
   },
   "file_extension": ".py",
   "mimetype": "text/x-python",
   "name": "python",
   "nbconvert_exporter": "python",
   "pygments_lexer": "ipython3",
   "version": "3.10.2"
  }
 },
 "nbformat": 4,
 "nbformat_minor": 4
}
